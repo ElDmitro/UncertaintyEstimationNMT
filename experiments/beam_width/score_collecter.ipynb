{
 "cells": [
  {
   "cell_type": "code",
   "execution_count": 7,
   "metadata": {},
   "outputs": [],
   "source": [
    "import os\n",
    "import re"
   ]
  },
  {
   "cell_type": "code",
   "execution_count": 3,
   "metadata": {},
   "outputs": [],
   "source": [
    "METRIC_LITERA = 'BLEU4'"
   ]
  },
  {
   "cell_type": "code",
   "execution_count": 4,
   "metadata": {},
   "outputs": [],
   "source": [
    "SCORE_DIR = 'scores'\n",
    "MODEL_DIR = 'iwslt14'\n",
    "\n",
    "scores_path = os.path.join(MODEL_DIR, SCORE_DIR)"
   ]
  },
  {
   "cell_type": "code",
   "execution_count": 40,
   "metadata": {},
   "outputs": [],
   "source": [
    "filenames = []\n",
    "scores = []\n",
    "\n",
    "for score_filename in os.listdir(scores_path):\n",
    "    score_path = os.path.join(scores_path, score_filename)\n",
    "    \n",
    "    score_lines = []\n",
    "    with open(score_path) as input_stream:\n",
    "        score_lines = input_stream.readlines()\n",
    "        \n",
    "    score_line = score_lines[-1]\n",
    "    score_list = re.split(',|\\s|=', score_line)\n",
    "    metric_idx = score_list.index(METRIC_LITERA) + 3\n",
    "    \n",
    "    score = float(score_list[metric_idx])\n",
    "    scores.append(score)\n",
    "    filenames.append(score_filename)"
   ]
  },
  {
   "cell_type": "code",
   "execution_count": 45,
   "metadata": {},
   "outputs": [],
   "source": [
    "beam_widths = [int(x.replace('.out', '')) for x in filenames]"
   ]
  },
  {
   "cell_type": "code",
   "execution_count": 46,
   "metadata": {},
   "outputs": [
    {
     "data": {
      "text/plain": [
       "[30, 5, 3, 1, 10, 7, 2, 50, 40, 6, 20, 4, 8, 9]"
      ]
     },
     "execution_count": 46,
     "metadata": {},
     "output_type": "execute_result"
    }
   ],
   "source": [
    "beam_widths"
   ]
  },
  {
   "cell_type": "code",
   "execution_count": 47,
   "metadata": {},
   "outputs": [
    {
     "data": {
      "text/plain": [
       "[34.9,\n",
       " 34.75,\n",
       " 34.68,\n",
       " 34.02,\n",
       " 34.89,\n",
       " 34.8,\n",
       " 34.48,\n",
       " 34.89,\n",
       " 34.88,\n",
       " 34.8,\n",
       " 34.9,\n",
       " 34.72,\n",
       " 34.87,\n",
       " 34.89]"
      ]
     },
     "execution_count": 47,
     "metadata": {},
     "output_type": "execute_result"
    }
   ],
   "source": [
    "scores"
   ]
  },
  {
   "cell_type": "code",
   "execution_count": 50,
   "metadata": {},
   "outputs": [],
   "source": [
    "import matplotlib.pyplot as plt"
   ]
  },
  {
   "cell_type": "code",
   "execution_count": 54,
   "metadata": {},
   "outputs": [],
   "source": [
    "import numpy as np"
   ]
  },
  {
   "cell_type": "code",
   "execution_count": 55,
   "metadata": {},
   "outputs": [],
   "source": [
    "args_s = np.argsort(beam_widths)"
   ]
  },
  {
   "cell_type": "code",
   "execution_count": 56,
   "metadata": {},
   "outputs": [],
   "source": [
    "beam_widths = np.array(beam_widths)\n",
    "scores = np.array(scores)"
   ]
  },
  {
   "cell_type": "code",
   "execution_count": 58,
   "metadata": {},
   "outputs": [],
   "source": [
    "beam_widths = beam_widths[args_s]\n",
    "scores = scores[args_s]"
   ]
  },
  {
   "cell_type": "code",
   "execution_count": 61,
   "metadata": {},
   "outputs": [
    {
     "data": {
      "image/png": "[encoded data removed]",
      "text/plain": [
       "<Figure size 576x432 with 1 Axes>"
      ]
     },
     "metadata": {
      "needs_background": "light"
     },
     "output_type": "display_data"
    }
   ],
   "source": [
    "plt.figure(figsize=(8, 6))\n",
    "\n",
    "plt.plot(beam_widths, scores)\n",
    "plt.xlabel('beam width')\n",
    "plt.ylabel('BLEU4')\n",
    "plt.title('WMT14 En-De Transformer BLEU4 by beam width')\n",
    "plt.grid()"
   ]
  },
  {
   "cell_type": "code",
   "execution_count": null,
   "metadata": {},
   "outputs": [],
   "source": []
  }
 ],
 "metadata": {
  "kernelspec": {
   "display_name": "Python 3",
   "language": "python",
   "name": "python3"
  },
  "language_info": {
   "codemirror_mode": {
    "name": "ipython",
    "version": 3
   },
   "file_extension": ".py",
   "mimetype": "text/x-python",
   "name": "python",
   "nbconvert_exporter": "python",
   "pygments_lexer": "ipython3",
   "version": "3.7.4"
  }
 },
 "nbformat": 4,
 "nbformat_minor": 2
}
